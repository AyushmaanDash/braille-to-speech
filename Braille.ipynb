# Importing necessary libraries from Keras for image data generation
from keras.preprocessing.image import ImageDataGenerator

# Creating an ImageDataGenerator object with specified augmentation parameters
datagen = ImageDataGenerator(rotation_range=20, shear_range=10, validation_split=0.2)

# Directory containing the dataset
data_dir = '/content/drive/My Drive/Colab Notebooks/Braille/Braille Dataset'

# Generating training data using flow_from_directory method with specified target size and subset as training
train_generator = datagen.flow_from_directory(data_dir, target_size=(28,28), subset='training')

# Generating validation data using flow_from_directory method with specified target size and subset as validation
val_generator = datagen.flow_from_directory(data_dir, target_size=(28,28), subset='validation')

# List containing paths to images
char_dir_list = ['/b/b1.JPG2whs.jpg', '/e/e1.JPG2dim.jpg', '', '/k/k1.JPG4dim.jpg', '/i/i1.JPG7whs.jpg', '/n/n1.JPG5whs.jpg', '/d/d1.JPG2dim.jpg']

def predict(model_dir):
    """
    Predict characters from images using a trained model.

    Args:
    - model_dir (str): Path to the trained model file.

    Returns:
    - str: Predicted string of characters.
    """

    # Initialize an empty string to store the predicted characters
    text_output = ''

    # Load the trained model
    model = load_model(model_dir)

    # Import necessary libraries
    from tensorflow.keras.preprocessing import image
    import numpy as np

    # Iterate through each image path in the list
    for char_dir in char_dir_list:
        # Check if the image path is empty
        if(char_dir == ''):
            # If empty, add a space to the output string and continue to the next iteration
            text_output += ' '
            continue

        # Load the image using keras' image.load_img
        img = image.load_img(data_dir + char_dir)

        # Convert the image to a numpy array
        x = image.img_to_array(img)

        # Expand the dimensions of the image array along the batch axis
        x = np.expand_dims(x, axis=0)

        # Predict the class probabilities for the image
        model.predict(x)

        # Get the index of the class with the highest probability
        output = np.argmax(model.predict(x), axis=1)

        # Convert the index to a character
        output = chr(output[0] + 97)

        # Add the predicted character to the output string
        text_output += output

    # Return the final predicted string
    return text_output

# Generate predictions using the first model
o1 = predict(model_dir)

# Generate predictions using the second model
o2 = predict(model2_dir)

!pip install gtts

def tts(text):
    """
    Convert text to speech using Google Text-to-Speech (gTTS) library.

    Args:
    - text (str): Text to be converted to speech.

    Returns:
    - None
    """

    # Import necessary libraries
    from gtts import gTTS
    import os
    import IPython.display as ipd

    # Language in which you want to convert
    language = 'en'

    # Check if 'speech.mp3' already exists, and delete it if it does
    if os.path.exists("speech.mp3"):
        os.remove("speech.mp3")

    # Passing the text and language to the engine, slow=True ensures slow speed
    speech = gTTS(text=text, lang=language, slow=True)

    # Saving the converted audio in a file named speech.mp3
    speech.save("speech.mp3")

    # Display the audio file for download
    ipd.display(ipd.Audio("speech.mp3"))

tts(o1)
tts(o2)
